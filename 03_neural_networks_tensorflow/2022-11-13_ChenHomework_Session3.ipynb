{
 "cells": [
  {
   "cell_type": "code",
   "execution_count": 13,
   "id": "b4954daa",
   "metadata": {},
   "outputs": [],
   "source": [
    "%matplotlib inline\n",
    "\n",
    "import tensorflow as tf\n",
    "\n",
    "import numpy\n",
    "import matplotlib.pyplot as plt\n",
    "import time\n",
    "import gzip\n",
    "import os\n",
    "import struct\n",
    "\n",
    "import pickle"
   ]
  },
  {
   "cell_type": "code",
   "execution_count": 34,
   "id": "4935c417",
   "metadata": {},
   "outputs": [
    {
     "name": "stdout",
     "output_type": "stream",
     "text": [
      "data_batch_1\n",
      "data_batch_2\n",
      "data_batch_3\n",
      "data_batch_4\n",
      "data_batch_5\n",
      "(50000, 32, 32, 3)\n",
      "(50000,)\n",
      "(10000, 32, 32, 3)\n",
      "(10000,)\n"
     ]
    }
   ],
   "source": [
    "# repeating the data prep from the previous notebook\n",
    "NROWS = 32\n",
    "NCOLS = 32\n",
    "\n",
    "def load_batch():\n",
    "    path = ''\n",
    "    fileList = ['data_batch_1', 'data_batch_2', 'data_batch_3', 'data_batch_4', 'data_batch_5' ]\n",
    "    fileTest = 'test_batch'\n",
    "    for file in fileList:\n",
    "        print(file)\n",
    "        f = open(path+file, 'rb')\n",
    "        dict = pickle.load(f, encoding='latin1')\n",
    "        images = dict['data']\n",
    "        images = numpy.reshape(images, (10000, 3, 32, 32))\n",
    "        images = numpy.transpose(images, (0, 2, 3, 1))\n",
    "        labels = dict['labels']\n",
    "        if file == 'data_batch_1':\n",
    "            x_train = numpy.array(images)   #   (10000, 3072)\n",
    "            y_train = numpy.array(labels)   #   (10000,)\n",
    "        else:\n",
    "            x_train = numpy.concatenate((x_train, images), axis=0)\n",
    "            y_train = numpy.concatenate((y_train, labels), axis=0)\n",
    "        \n",
    "    f = open(path+file, 'rb')\n",
    "    dict = pickle.load(f, encoding='latin1')\n",
    "    images = dict['data']\n",
    "    images = numpy.reshape(images, (10000, 3, 32, 32))\n",
    "    images = numpy.transpose(images, (0, 2, 3, 1))\n",
    "    labels = dict['labels']\n",
    "    x_test = numpy.array(images)   #   (10000, 3072)\n",
    "    y_test = numpy.array(labels)   #   (10000,)\n",
    "        \n",
    "    return x_train, y_train, x_test, y_test\n",
    "\n",
    "x_train, y_train, x_test, y_test = load_batch()\n",
    "\n",
    "print(x_train.shape)\n",
    "print(y_train.shape)\n",
    "print(x_test.shape)\n",
    "print(y_test.shape)\n",
    "\n",
    "x_train = x_train.astype(numpy.float32)\n",
    "x_test  = x_test.astype(numpy.float32)\n",
    "\n",
    "x_train /= 255.\n",
    "x_test  /= 255.\n",
    "\n",
    "y_train = y_train.astype(numpy.int32)\n",
    "y_test  = y_test.astype(numpy.int32)"
   ]
  },
  {
   "cell_type": "code",
   "execution_count": 35,
   "id": "d4b3c20b",
   "metadata": {},
   "outputs": [],
   "source": [
    "class CIFAR10Classifier(tf.keras.models.Model):\n",
    "\n",
    "    def __init__(self, activation=tf.nn.tanh):\n",
    "        tf.keras.models.Model.__init__(self)\n",
    "\n",
    "        self.conv_1 = tf.keras.layers.Conv2D(32, [3, 3], activation='relu')\n",
    "        self.conv_2 = tf.keras.layers.Conv2D(64, [3, 3], activation='relu')\n",
    "        self.pool_3 = tf.keras.layers.MaxPooling2D(pool_size=(2, 2))\n",
    "        self.drop_4 = tf.keras.layers.Dropout(0.25)\n",
    "        self.dense_5 = tf.keras.layers.Dense(128, activation='relu')\n",
    "        self.drop_6 = tf.keras.layers.Dropout(0.5)\n",
    "        self.dense_7 = tf.keras.layers.Dense(10, activation='softmax')\n",
    "\n",
    "    def call(self, inputs):\n",
    "\n",
    "        x = self.conv_1(inputs)\n",
    "        x = self.conv_2(x)\n",
    "        x = self.pool_3(x)\n",
    "        x = self.drop_4(x)\n",
    "        x = tf.keras.layers.Flatten()(x)\n",
    "        x = self.dense_5(x)\n",
    "        x = self.drop_6(x)\n",
    "        x = self.dense_7(x)\n",
    "\n",
    "        return x"
   ]
  },
  {
   "cell_type": "code",
   "execution_count": 36,
   "id": "4c4701b1",
   "metadata": {},
   "outputs": [],
   "source": [
    "def train_network_concise(_batch_size, _n_training_epochs, _lr):\n",
    "\n",
    "    cnn_model = CIFAR10Classifier()\n",
    "\n",
    "    cnn_model.compile(loss=\"sparse_categorical_crossentropy\", optimizer=\"adam\", metrics=['accuracy'])\n",
    "    \n",
    "    history = cnn_model.fit(x_train, y_train, batch_size=_batch_size, epochs=_n_training_epochs)\n",
    "    \n",
    "    return history, cnn_model"
   ]
  },
  {
   "cell_type": "code",
   "execution_count": 37,
   "id": "831683e3",
   "metadata": {},
   "outputs": [
    {
     "name": "stdout",
     "output_type": "stream",
     "text": [
      "Epoch 1/3\n",
      "98/98 [==============================] - 6s 8ms/step - loss: 1.7587 - accuracy: 0.3631\n",
      "Epoch 2/3\n",
      "98/98 [==============================] - 1s 6ms/step - loss: 1.4204 - accuracy: 0.4911\n",
      "Epoch 3/3\n",
      "98/98 [==============================] - 1s 6ms/step - loss: 1.2770 - accuracy: 0.5469\n"
     ]
    }
   ],
   "source": [
    "# This took 43 seconds per epoch on my laptop\n",
    "batch_size = 512\n",
    "epochs = 3\n",
    "lr = .01\n",
    "history, cnn_model = train_network_concise(batch_size, epochs, lr)\n"
   ]
  },
  {
   "cell_type": "code",
   "execution_count": 38,
   "id": "a640f228",
   "metadata": {},
   "outputs": [
    {
     "data": {
      "image/png": "[encoded data removed]",
      "text/plain": [
       "<Figure size 360x216 with 1 Axes>"
      ]
     },
     "metadata": {
      "needs_background": "light"
     },
     "output_type": "display_data"
    },
    {
     "data": {
      "image/png": "[encoded data removed]",
      "text/plain": [
       "<Figure size 360x216 with 1 Axes>"
      ]
     },
     "metadata": {
      "needs_background": "light"
     },
     "output_type": "display_data"
    }
   ],
   "source": [
    "plt.figure(figsize=(5,3))\n",
    "plt.plot(history.epoch,history.history['loss'])\n",
    "plt.title('loss')\n",
    "\n",
    "plt.figure(figsize=(5,3))\n",
    "plt.plot(history.epoch,history.history['accuracy'])\n",
    "plt.title('accuracy');"
   ]
  },
  {
   "cell_type": "code",
   "execution_count": 39,
   "id": "c62ab30e",
   "metadata": {},
   "outputs": [
    {
     "name": "stdout",
     "output_type": "stream",
     "text": [
      "313/313 - 1s - loss: 1.0710 - accuracy: 0.6334 - 622ms/epoch - 2ms/step\n",
      "accuracy: 63.34%\n",
      "CPU times: user 903 ms, sys: 317 ms, total: 1.22 s\n",
      "Wall time: 820 ms\n"
     ]
    }
   ],
   "source": [
    "%%time\n",
    "x_test_reshaped = numpy.expand_dims(x_test, -1)\n",
    "scores = cnn_model.evaluate(x_test, y_test, verbose=2)\n",
    "print(\"%s: %.2f%%\" % (cnn_model.metrics_names[1], scores[1]*100))"
   ]
  },
  {
   "cell_type": "code",
   "execution_count": 40,
   "id": "84da55b9",
   "metadata": {},
   "outputs": [
    {
     "name": "stdout",
     "output_type": "stream",
     "text": [
      "Confusion matrix (rows: true classes; columns: predicted classes):\n",
      "\n",
      "313/313 [==============================] - 0s 852us/step\n",
      "[[680  25  70  24  15   6   4  17 139  34]\n",
      " [ 41 731   9   9   6  14  15  11  71 107]\n",
      " [ 61   8 509  55 105 114  29  35  25  11]\n",
      " [ 16   5 112 458  59 259  40  35  18  14]\n",
      " [ 43   7 154  65 533  67  33  75  18   2]\n",
      " [ 11   4  67 152  57 650  14  54   8   8]\n",
      " [  1   5  95  98 110  54 582  17   6  12]\n",
      " [ 13   4  32  32  70 121   6 677   7  15]\n",
      " [ 72  29  26  23   3  14   5   4 805  22]\n",
      " [ 49 113  13  26   2  16  11  29  54 709]]\n",
      "\n",
      "Classification accuracy for each class:\n",
      "\n",
      "0: 0.6706\n",
      "1: 0.7209\n",
      "2: 0.5347\n",
      "3: 0.4508\n",
      "4: 0.5346\n",
      "5: 0.6341\n",
      "6: 0.5939\n",
      "7: 0.6929\n",
      "8: 0.8026\n",
      "9: 0.6937\n"
     ]
    }
   ],
   "source": [
    "from sklearn.metrics import confusion_matrix\n",
    "\n",
    "print('Confusion matrix (rows: true classes; columns: predicted classes):'); print()\n",
    "predictions = cnn_model.predict(x_test)\n",
    "cm=confusion_matrix(y_test, numpy.argmax(predictions, axis=1), labels=list(range(10)))\n",
    "print(cm); print()\n",
    "\n",
    "print('Classification accuracy for each class:'); print()\n",
    "for i,j in enumerate(cm.diagonal()/cm.sum(axis=1)): print(\"%d: %.4f\" % (i,j))"
   ]
  },
  {
   "cell_type": "code",
   "execution_count": 41,
   "id": "7cc50b9c",
   "metadata": {},
   "outputs": [],
   "source": [
    "def compute_loss(y_true, y_pred):\n",
    "    # if labels are integers, use sparse categorical crossentropy\n",
    "    # network's final layer is softmax, so from_logtis=False\n",
    "    scce = tf.keras.losses.SparseCategoricalCrossentropy(from_logits=False)\n",
    "    # if labels are one-hot encoded, use standard crossentropy\n",
    "\n",
    "    return scce(y_true, y_pred) "
   ]
  },
  {
   "cell_type": "code",
   "execution_count": 42,
   "id": "d26f6ddd",
   "metadata": {},
   "outputs": [],
   "source": [
    "def forward_pass(model, batch_data, y_true):\n",
    "    y_pred = model(batch_data)\n",
    "    loss = compute_loss(y_true, y_pred)\n",
    "    return loss"
   ]
  },
  {
   "cell_type": "code",
   "execution_count": 43,
   "id": "3c9a2fe4",
   "metadata": {},
   "outputs": [],
   "source": [
    "# Here is a function that will manage the training loop for us:\n",
    "\n",
    "def train_loop(batch_size, n_training_epochs, model, opt):\n",
    "    \n",
    "    @tf.function()\n",
    "    def train_iteration(data, y_true, model, opt):\n",
    "        with tf.GradientTape() as tape:\n",
    "            loss = forward_pass(model, data, y_true)\n",
    "\n",
    "        trainable_vars = model.trainable_variables\n",
    "\n",
    "        # Apply the update to the network (one at a time):\n",
    "        grads = tape.gradient(loss, trainable_vars)\n",
    "\n",
    "        opt.apply_gradients(zip(grads, trainable_vars))\n",
    "        return loss\n",
    "\n",
    "    for i_epoch in range(n_training_epochs):\n",
    "        print(\"beginning epoch %d\" % i_epoch)\n",
    "        start = time.time()\n",
    "\n",
    "        epoch_steps = int(50000/batch_size)\n",
    "        dataset.shuffle(50000) # Shuffle the whole dataset in memory\n",
    "        batches = dataset.batch(batch_size=batch_size, drop_remainder=True)\n",
    "        \n",
    "        for i_batch, (batch_data, y_true) in enumerate(batches):\n",
    "            batch_data = tf.reshape(batch_data, [-1, 32, 32, 3])\n",
    "            loss = train_iteration(batch_data, y_true, model, opt)\n",
    "            \n",
    "        end = time.time()\n",
    "        print(\"took %1.1f seconds for epoch #%d\" % (end-start, i_epoch))"
   ]
  },
  {
   "cell_type": "code",
   "execution_count": 44,
   "id": "ff0a7d13",
   "metadata": {},
   "outputs": [],
   "source": [
    "def train_network(_batch_size, _n_training_epochs, _lr):\n",
    "\n",
    "    cifar_model = CIFAR10Classifier()\n",
    "\n",
    "    opt = tf.keras.optimizers.Adam(_lr)\n",
    "\n",
    "    train_loop(_batch_size, _n_training_epochs, cifar_model, opt)"
   ]
  },
  {
   "cell_type": "code",
   "execution_count": 45,
   "id": "cb4cc5fd",
   "metadata": {},
   "outputs": [
    {
     "name": "stdout",
     "output_type": "stream",
     "text": [
      "beginning epoch 0\n",
      "took 1.4 seconds for epoch #0\n",
      "beginning epoch 1\n",
      "took 0.8 seconds for epoch #1\n",
      "beginning epoch 2\n",
      "took 0.8 seconds for epoch #2\n"
     ]
    }
   ],
   "source": [
    "dataset = tf.data.Dataset.from_tensor_slices((x_train, y_train))\n",
    "dataset.shuffle(50000)\n",
    "\n",
    "batch_size = 512\n",
    "epochs = 3\n",
    "lr = .01\n",
    "train_network(batch_size, epochs, lr)"
   ]
  },
  {
   "cell_type": "code",
   "execution_count": 55,
   "id": "3f110c1d",
   "metadata": {},
   "outputs": [],
   "source": [
    "class CIFAR10Classifier2(tf.keras.models.Model):\n",
    "\n",
    "    def __init__(self, activation=tf.nn.tanh):\n",
    "        tf.keras.models.Model.__init__(self)\n",
    "\n",
    "        self.conv_1 = tf.keras.layers.Conv2D(32, [3, 3], activation='leaky_relu')\n",
    "        self.conv_2 = tf.keras.layers.Conv2D(64, [3, 3], activation='leaky_relu')\n",
    "        self.pool_3 = tf.keras.layers.MaxPooling2D(pool_size=(2, 2))\n",
    "        \n",
    "        self.conv_4 = tf.keras.layers.Conv2D(128, [3, 3], activation='leaky_relu')\n",
    "        self.conv_5 = tf.keras.layers.Conv2D(256, [3, 3], activation='leaky_relu')\n",
    "        self.pool_6 = tf.keras.layers.MaxPooling2D(pool_size=(2, 2))\n",
    "        \n",
    "        self.drop_7 = tf.keras.layers.Dropout(0.25)\n",
    "        self.dense_8 = tf.keras.layers.Dense(256, activation='leaky_relu')\n",
    "        self.dense_9 = tf.keras.layers.Dense(512, activation='leaky_relu')\n",
    "        self.drop_10 = tf.keras.layers.Dropout(0.5)\n",
    "        \n",
    "        self.dense_11 = tf.keras.layers.Dense(128, activation='leaky_relu')\n",
    "        self.dense_12 = tf.keras.layers.Dense(64, activation='leaky_relu')\n",
    "        self.dense_13 = tf.keras.layers.Dense(10, activation='softmax')\n",
    "\n",
    "    def call(self, inputs):\n",
    "\n",
    "        x = self.conv_1(inputs)\n",
    "        x = self.conv_2(x)\n",
    "        x = self.pool_3(x)\n",
    "        \n",
    "        x = self.conv_4(x)\n",
    "        x = self.conv_5(x)\n",
    "        x = self.pool_6(x)\n",
    "        \n",
    "        x = self.drop_7(x)\n",
    "        x = tf.keras.layers.Flatten()(x)\n",
    "        x = self.dense_8(x)\n",
    "        x = self.dense_9(x)\n",
    "        x = self.drop_10(x)\n",
    "        \n",
    "        x = self.dense_11(x)\n",
    "        x = self.dense_12(x)\n",
    "        x = self.dense_13(x)\n",
    "\n",
    "        return x"
   ]
  },
  {
   "cell_type": "code",
   "execution_count": 56,
   "id": "8879ffe7",
   "metadata": {},
   "outputs": [],
   "source": [
    "def train_network_concise(_batch_size, _n_training_epochs, _lr):\n",
    "\n",
    "    cnn_model = CIFAR10Classifier2()\n",
    "\n",
    "    cnn_model.compile(loss=\"sparse_categorical_crossentropy\", optimizer=\"adam\", metrics=['accuracy'])\n",
    "    \n",
    "    history = cnn_model.fit(x_train, y_train, batch_size=_batch_size, epochs=_n_training_epochs)\n",
    "    \n",
    "    return history, cnn_model"
   ]
  },
  {
   "cell_type": "code",
   "execution_count": 59,
   "id": "e079da83",
   "metadata": {},
   "outputs": [
    {
     "name": "stdout",
     "output_type": "stream",
     "text": [
      "Epoch 1/20\n",
      "98/98 [==============================] - 1s 9ms/step - loss: 1.7581 - accuracy: 0.3400\n",
      "Epoch 2/20\n",
      "98/98 [==============================] - 1s 9ms/step - loss: 1.2609 - accuracy: 0.5434\n",
      "Epoch 3/20\n",
      "98/98 [==============================] - 1s 9ms/step - loss: 1.0086 - accuracy: 0.6426\n",
      "Epoch 4/20\n",
      "98/98 [==============================] - 1s 10ms/step - loss: 0.8323 - accuracy: 0.7073\n",
      "Epoch 5/20\n",
      "98/98 [==============================] - 1s 10ms/step - loss: 0.7130 - accuracy: 0.7489\n",
      "Epoch 6/20\n",
      "98/98 [==============================] - 1s 9ms/step - loss: 0.6316 - accuracy: 0.7781\n",
      "Epoch 7/20\n",
      "98/98 [==============================] - 1s 10ms/step - loss: 0.5410 - accuracy: 0.8093\n",
      "Epoch 8/20\n",
      "98/98 [==============================] - 1s 10ms/step - loss: 0.4836 - accuracy: 0.8310\n",
      "Epoch 9/20\n",
      "98/98 [==============================] - 1s 9ms/step - loss: 0.4278 - accuracy: 0.8494\n",
      "Epoch 10/20\n",
      "98/98 [==============================] - 1s 9ms/step - loss: 0.3785 - accuracy: 0.8665\n",
      "Epoch 11/20\n",
      "98/98 [==============================] - 1s 9ms/step - loss: 0.3399 - accuracy: 0.8805\n",
      "Epoch 12/20\n",
      "98/98 [==============================] - 1s 11ms/step - loss: 0.3016 - accuracy: 0.8919\n",
      "Epoch 13/20\n",
      "98/98 [==============================] - 1s 10ms/step - loss: 0.2664 - accuracy: 0.9065\n",
      "Epoch 14/20\n",
      "98/98 [==============================] - 1s 10ms/step - loss: 0.2334 - accuracy: 0.9182\n",
      "Epoch 15/20\n",
      "98/98 [==============================] - 1s 9ms/step - loss: 0.2141 - accuracy: 0.9242\n",
      "Epoch 16/20\n",
      "98/98 [==============================] - 1s 10ms/step - loss: 0.1963 - accuracy: 0.9296\n",
      "Epoch 17/20\n",
      "98/98 [==============================] - 1s 10ms/step - loss: 0.1798 - accuracy: 0.9362\n",
      "Epoch 18/20\n",
      "98/98 [==============================] - 1s 9ms/step - loss: 0.1689 - accuracy: 0.9404\n",
      "Epoch 19/20\n",
      "98/98 [==============================] - 1s 10ms/step - loss: 0.1523 - accuracy: 0.9453\n",
      "Epoch 20/20\n",
      "98/98 [==============================] - 1s 10ms/step - loss: 0.1279 - accuracy: 0.9550\n"
     ]
    }
   ],
   "source": [
    "# This took 43 seconds per epoch on my laptop\n",
    "batch_size = 512\n",
    "epochs = 20\n",
    "lr = .01\n",
    "history, cnn_model = train_network_concise(batch_size, epochs, lr)\n"
   ]
  },
  {
   "cell_type": "code",
   "execution_count": 60,
   "id": "977d3c86",
   "metadata": {},
   "outputs": [
    {
     "data": {
      "image/png": "[encoded data removed]",
      "text/plain": [
       "<Figure size 360x216 with 1 Axes>"
      ]
     },
     "metadata": {
      "needs_background": "light"
     },
     "output_type": "display_data"
    },
    {
     "data": {
      "image/png": "[encoded data removed]",
      "text/plain": [
       "<Figure size 360x216 with 1 Axes>"
      ]
     },
     "metadata": {
      "needs_background": "light"
     },
     "output_type": "display_data"
    }
   ],
   "source": [
    "plt.figure(figsize=(5,3))\n",
    "plt.plot(history.epoch,history.history['loss'])\n",
    "plt.title('loss')\n",
    "\n",
    "plt.figure(figsize=(5,3))\n",
    "plt.plot(history.epoch,history.history['accuracy'])\n",
    "plt.title('accuracy');"
   ]
  },
  {
   "cell_type": "markdown",
   "id": "a5bac492",
   "metadata": {},
   "source": [
    "In my experiment, I add more layers to the network, and change the nonlinear function to leaky relu, after 20 epochs, the accuracy becomes 95%. According to the loss, the slope is not fully converged, so if we do more epochs, we can get a better loss and accuracy!"
   ]
  },
  {
   "cell_type": "code",
   "execution_count": null,
   "id": "b9895307",
   "metadata": {},
   "outputs": [],
   "source": []
  }
 ],
 "metadata": {
  "kernelspec": {
   "display_name": "conda/2022-07-01",
   "language": "python",
   "name": "conda-2022-07-01"
  },
  "language_info": {
   "codemirror_mode": {
    "name": "ipython",
    "version": 3
   },
   "file_extension": ".py",
   "mimetype": "text/x-python",
   "name": "python",
   "nbconvert_exporter": "python",
   "pygments_lexer": "ipython3",
   "version": "3.8.13"
  }
 },
 "nbformat": 4,
 "nbformat_minor": 5
}
